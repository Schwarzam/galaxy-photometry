{
 "cells": [
  {
   "cell_type": "code",
   "execution_count": 40,
   "id": "1090286a",
   "metadata": {},
   "outputs": [],
   "source": [
    "from astropy.table import Table\n",
    "import numpy as np\n",
    "\n",
    "from astropy import wcs\n",
    "from astropy import coordinates as coord\n",
    "from astropy import units as u\n",
    "\n",
    "\n",
    "def match(t, ra, dec):\n",
    "    ra2 = np.array(t['ALPHA_J2000'])\n",
    "    dec2 = np.array(t['DELTA_J2000'])\n",
    "    c = coord.SkyCoord(ra=ra, dec=dec, unit=(u.degree, u.degree))\n",
    "    catalog = coord.SkyCoord(ra=ra2, dec=dec2, unit=(u.degree, u.degree))\n",
    "    idx, d2d, d3d = c.match_to_catalog_sky(catalog)\n",
    "    return idx, d2d, d3d"
   ]
  },
  {
   "cell_type": "code",
   "execution_count": null,
   "id": "a285901a",
   "metadata": {},
   "outputs": [],
   "source": [
    "import splusdata"
   ]
  },
  {
   "cell_type": "code",
   "execution_count": null,
   "id": "43d505b5",
   "metadata": {},
   "outputs": [],
   "source": []
  },
  {
   "cell_type": "code",
   "execution_count": null,
   "id": "0cc4bb16",
   "metadata": {},
   "outputs": [],
   "source": []
  },
  {
   "cell_type": "code",
   "execution_count": 41,
   "id": "330ec439",
   "metadata": {},
   "outputs": [],
   "source": [
    "t = Table.read('catalogo.fits')"
   ]
  },
  {
   "cell_type": "code",
   "execution_count": 42,
   "id": "c1872eac",
   "metadata": {
    "scrolled": true
   },
   "outputs": [
    {
     "data": {
      "text/html": [
       "<div><i>Table length=3</i>\n",
       "<table id=\"table139713149267648\" class=\"table-striped table-bordered table-condensed\">\n",
       "<thead><tr><th>ALPHA_J2000</th><th>DELTA_J2000</th><th>NUMBER</th><th>EXT_NUMBER</th><th>FLUX_ISO</th><th>FLUXERR_ISO</th><th>MAG_ISO</th><th>MAGERR_ISO</th><th>FLUX_ISOCOR</th><th>FLUXERR_ISOCOR</th><th>MAG_ISOCOR</th><th>MAGERR_ISOCOR</th><th>FLUX_APER</th><th>FLUXERR_APER</th></tr></thead>\n",
       "<thead><tr><th>deg</th><th>deg</th><th></th><th></th><th>ct</th><th>ct</th><th>mag</th><th>mag</th><th>ct</th><th>ct</th><th>mag</th><th>mag</th><th>ct</th><th>ct</th></tr></thead>\n",
       "<thead><tr><th>float64</th><th>float64</th><th>int32</th><th>int16</th><th>float32</th><th>float32</th><th>float32</th><th>float32</th><th>float32</th><th>float32</th><th>float32</th><th>float32</th><th>float32</th><th>float32</th></tr></thead>\n",
       "<tr><td>50.2020691</td><td>-33.2979716</td><td>1</td><td>1</td><td>3165.505</td><td>6.979809</td><td>15.2489</td><td>0.0024</td><td>3201.931</td><td>7.221796</td><td>15.2365</td><td>0.0024</td><td>2312.471</td><td>4.607197</td></tr>\n",
       "<tr><td>50.1819973</td><td>-33.2893170</td><td>2</td><td>1</td><td>10.94421</td><td>0.8939962</td><td>21.4020</td><td>0.0887</td><td>14.82268</td><td>1.500769</td><td>21.0727</td><td>0.1100</td><td>12.9786</td><td>1.037724</td></tr>\n",
       "<tr><td>50.1900170</td><td>-33.2936054</td><td>3</td><td>1</td><td>571.4547</td><td>5.093345</td><td>17.1075</td><td>0.0097</td><td>640.5021</td><td>6.610367</td><td>16.9837</td><td>0.0112</td><td>99.24772</td><td>1.354469</td></tr>\n",
       "</table></div>"
      ],
      "text/plain": [
       "<Table length=3>\n",
       "ALPHA_J2000 DELTA_J2000   NUMBER   EXT_NUMBER ... MAGERR_ISOCOR  FLUX_APER   FLUXERR_APER\n",
       "    deg         deg                           ...      mag           ct           ct     \n",
       "  float64     float64     int32      int16    ...    float32      float32      float32   \n",
       "----------- ----------- ---------- ---------- ... ------------- ------------ ------------\n",
       " 50.2020691 -33.2979716          1          1 ...        0.0024     2312.471     4.607197\n",
       " 50.1819973 -33.2893170          2          1 ...        0.1100      12.9786     1.037724\n",
       " 50.1900170 -33.2936054          3          1 ...        0.0112     99.24772     1.354469"
      ]
     },
     "execution_count": 42,
     "metadata": {},
     "output_type": "execute_result"
    }
   ],
   "source": [
    "t"
   ]
  },
  {
   "cell_type": "code",
   "execution_count": null,
   "id": "01fc09d1",
   "metadata": {},
   "outputs": [],
   "source": []
  },
  {
   "cell_type": "code",
   "execution_count": 43,
   "id": "12454af5",
   "metadata": {},
   "outputs": [],
   "source": [
    "idx, d2d, _ = match(t, 50.191666, -33.2941)"
   ]
  },
  {
   "cell_type": "code",
   "execution_count": 45,
   "id": "b62b7d84",
   "metadata": {},
   "outputs": [],
   "source": [
    "df = t[t['NUMBER'] == t[idx]['NUMBER']].to_pandas()"
   ]
  },
  {
   "cell_type": "code",
   "execution_count": null,
   "id": "fac75212",
   "metadata": {},
   "outputs": [],
   "source": []
  }
 ],
 "metadata": {
  "kernelspec": {
   "display_name": "Python 3 (ipykernel)",
   "language": "python",
   "name": "python3"
  },
  "language_info": {
   "codemirror_mode": {
    "name": "ipython",
    "version": 3
   },
   "file_extension": ".py",
   "mimetype": "text/x-python",
   "name": "python",
   "nbconvert_exporter": "python",
   "pygments_lexer": "ipython3",
   "version": "3.10.6"
  }
 },
 "nbformat": 4,
 "nbformat_minor": 5
}
